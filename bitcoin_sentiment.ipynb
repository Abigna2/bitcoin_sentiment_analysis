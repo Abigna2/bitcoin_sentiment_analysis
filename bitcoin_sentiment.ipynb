{
 "cells": [
  {
   "cell_type": "code",
   "execution_count": 1,
   "id": "98f1ae4d-d0f8-4b26-9627-60b4ab1df6fe",
   "metadata": {},
   "outputs": [],
   "source": [
    "#DATA PREPROCESSING\n",
    "\n",
    "import pandas as pd\n",
    "import matplotlib.pyplot as plt\n",
    "import seaborn as sns\n",
    "\n",
    "# Optional for better visuals\n",
    "sns.set(style=\"whitegrid\")"
   ]
  },
  {
   "cell_type": "code",
   "execution_count": 3,
   "id": "449e0cb0-d72c-4384-b300-a339f325cbcd",
   "metadata": {},
   "outputs": [
    {
     "data": {
      "text/html": [
       "<div>\n",
       "<style scoped>\n",
       "    .dataframe tbody tr th:only-of-type {\n",
       "        vertical-align: middle;\n",
       "    }\n",
       "\n",
       "    .dataframe tbody tr th {\n",
       "        vertical-align: top;\n",
       "    }\n",
       "\n",
       "    .dataframe thead th {\n",
       "        text-align: right;\n",
       "    }\n",
       "</style>\n",
       "<table border=\"1\" class=\"dataframe\">\n",
       "  <thead>\n",
       "    <tr style=\"text-align: right;\">\n",
       "      <th></th>\n",
       "      <th>timestamp</th>\n",
       "      <th>value</th>\n",
       "      <th>classification</th>\n",
       "      <th>date</th>\n",
       "    </tr>\n",
       "  </thead>\n",
       "  <tbody>\n",
       "    <tr>\n",
       "      <th>0</th>\n",
       "      <td>1517463000</td>\n",
       "      <td>30</td>\n",
       "      <td>Fear</td>\n",
       "      <td>01-02-2018</td>\n",
       "    </tr>\n",
       "    <tr>\n",
       "      <th>1</th>\n",
       "      <td>1517549400</td>\n",
       "      <td>15</td>\n",
       "      <td>Extreme Fear</td>\n",
       "      <td>02-02-2018</td>\n",
       "    </tr>\n",
       "    <tr>\n",
       "      <th>2</th>\n",
       "      <td>1517635800</td>\n",
       "      <td>40</td>\n",
       "      <td>Fear</td>\n",
       "      <td>03-02-2018</td>\n",
       "    </tr>\n",
       "    <tr>\n",
       "      <th>3</th>\n",
       "      <td>1517722200</td>\n",
       "      <td>24</td>\n",
       "      <td>Extreme Fear</td>\n",
       "      <td>04-02-2018</td>\n",
       "    </tr>\n",
       "    <tr>\n",
       "      <th>4</th>\n",
       "      <td>1517808600</td>\n",
       "      <td>11</td>\n",
       "      <td>Extreme Fear</td>\n",
       "      <td>05-02-2018</td>\n",
       "    </tr>\n",
       "  </tbody>\n",
       "</table>\n",
       "</div>"
      ],
      "text/plain": [
       "    timestamp  value classification        date\n",
       "0  1517463000     30           Fear  01-02-2018\n",
       "1  1517549400     15   Extreme Fear  02-02-2018\n",
       "2  1517635800     40           Fear  03-02-2018\n",
       "3  1517722200     24   Extreme Fear  04-02-2018\n",
       "4  1517808600     11   Extreme Fear  05-02-2018"
      ]
     },
     "metadata": {},
     "output_type": "display_data"
    },
    {
     "data": {
      "text/html": [
       "<div>\n",
       "<style scoped>\n",
       "    .dataframe tbody tr th:only-of-type {\n",
       "        vertical-align: middle;\n",
       "    }\n",
       "\n",
       "    .dataframe tbody tr th {\n",
       "        vertical-align: top;\n",
       "    }\n",
       "\n",
       "    .dataframe thead th {\n",
       "        text-align: right;\n",
       "    }\n",
       "</style>\n",
       "<table border=\"1\" class=\"dataframe\">\n",
       "  <thead>\n",
       "    <tr style=\"text-align: right;\">\n",
       "      <th></th>\n",
       "      <th>Account</th>\n",
       "      <th>Coin</th>\n",
       "      <th>Execution Price</th>\n",
       "      <th>Size Tokens</th>\n",
       "      <th>Size USD</th>\n",
       "      <th>Side</th>\n",
       "      <th>Timestamp IST</th>\n",
       "      <th>Start Position</th>\n",
       "      <th>Direction</th>\n",
       "      <th>Closed PnL</th>\n",
       "      <th>Transaction Hash</th>\n",
       "      <th>Order ID</th>\n",
       "      <th>Crossed</th>\n",
       "      <th>Fee</th>\n",
       "      <th>Trade ID</th>\n",
       "      <th>Timestamp</th>\n",
       "    </tr>\n",
       "  </thead>\n",
       "  <tbody>\n",
       "    <tr>\n",
       "      <th>0</th>\n",
       "      <td>0xae5eacaf9c6b9111fd53034a602c192a04e082ed</td>\n",
       "      <td>@107</td>\n",
       "      <td>7.9769</td>\n",
       "      <td>986.87</td>\n",
       "      <td>7872.16</td>\n",
       "      <td>BUY</td>\n",
       "      <td>02-12-2024 22:50</td>\n",
       "      <td>0.000000</td>\n",
       "      <td>Buy</td>\n",
       "      <td>0.0</td>\n",
       "      <td>0xec09451986a1874e3a980418412fcd0201f500c95bac...</td>\n",
       "      <td>52017706630</td>\n",
       "      <td>True</td>\n",
       "      <td>0.345404</td>\n",
       "      <td>8.950000e+14</td>\n",
       "      <td>1.730000e+12</td>\n",
       "    </tr>\n",
       "    <tr>\n",
       "      <th>1</th>\n",
       "      <td>0xae5eacaf9c6b9111fd53034a602c192a04e082ed</td>\n",
       "      <td>@107</td>\n",
       "      <td>7.9800</td>\n",
       "      <td>16.00</td>\n",
       "      <td>127.68</td>\n",
       "      <td>BUY</td>\n",
       "      <td>02-12-2024 22:50</td>\n",
       "      <td>986.524596</td>\n",
       "      <td>Buy</td>\n",
       "      <td>0.0</td>\n",
       "      <td>0xec09451986a1874e3a980418412fcd0201f500c95bac...</td>\n",
       "      <td>52017706630</td>\n",
       "      <td>True</td>\n",
       "      <td>0.005600</td>\n",
       "      <td>4.430000e+14</td>\n",
       "      <td>1.730000e+12</td>\n",
       "    </tr>\n",
       "    <tr>\n",
       "      <th>2</th>\n",
       "      <td>0xae5eacaf9c6b9111fd53034a602c192a04e082ed</td>\n",
       "      <td>@107</td>\n",
       "      <td>7.9855</td>\n",
       "      <td>144.09</td>\n",
       "      <td>1150.63</td>\n",
       "      <td>BUY</td>\n",
       "      <td>02-12-2024 22:50</td>\n",
       "      <td>1002.518996</td>\n",
       "      <td>Buy</td>\n",
       "      <td>0.0</td>\n",
       "      <td>0xec09451986a1874e3a980418412fcd0201f500c95bac...</td>\n",
       "      <td>52017706630</td>\n",
       "      <td>True</td>\n",
       "      <td>0.050431</td>\n",
       "      <td>6.600000e+14</td>\n",
       "      <td>1.730000e+12</td>\n",
       "    </tr>\n",
       "    <tr>\n",
       "      <th>3</th>\n",
       "      <td>0xae5eacaf9c6b9111fd53034a602c192a04e082ed</td>\n",
       "      <td>@107</td>\n",
       "      <td>7.9874</td>\n",
       "      <td>142.98</td>\n",
       "      <td>1142.04</td>\n",
       "      <td>BUY</td>\n",
       "      <td>02-12-2024 22:50</td>\n",
       "      <td>1146.558564</td>\n",
       "      <td>Buy</td>\n",
       "      <td>0.0</td>\n",
       "      <td>0xec09451986a1874e3a980418412fcd0201f500c95bac...</td>\n",
       "      <td>52017706630</td>\n",
       "      <td>True</td>\n",
       "      <td>0.050043</td>\n",
       "      <td>1.080000e+15</td>\n",
       "      <td>1.730000e+12</td>\n",
       "    </tr>\n",
       "    <tr>\n",
       "      <th>4</th>\n",
       "      <td>0xae5eacaf9c6b9111fd53034a602c192a04e082ed</td>\n",
       "      <td>@107</td>\n",
       "      <td>7.9894</td>\n",
       "      <td>8.73</td>\n",
       "      <td>69.75</td>\n",
       "      <td>BUY</td>\n",
       "      <td>02-12-2024 22:50</td>\n",
       "      <td>1289.488521</td>\n",
       "      <td>Buy</td>\n",
       "      <td>0.0</td>\n",
       "      <td>0xec09451986a1874e3a980418412fcd0201f500c95bac...</td>\n",
       "      <td>52017706630</td>\n",
       "      <td>True</td>\n",
       "      <td>0.003055</td>\n",
       "      <td>1.050000e+15</td>\n",
       "      <td>1.730000e+12</td>\n",
       "    </tr>\n",
       "  </tbody>\n",
       "</table>\n",
       "</div>"
      ],
      "text/plain": [
       "                                      Account  Coin  Execution Price  \\\n",
       "0  0xae5eacaf9c6b9111fd53034a602c192a04e082ed  @107           7.9769   \n",
       "1  0xae5eacaf9c6b9111fd53034a602c192a04e082ed  @107           7.9800   \n",
       "2  0xae5eacaf9c6b9111fd53034a602c192a04e082ed  @107           7.9855   \n",
       "3  0xae5eacaf9c6b9111fd53034a602c192a04e082ed  @107           7.9874   \n",
       "4  0xae5eacaf9c6b9111fd53034a602c192a04e082ed  @107           7.9894   \n",
       "\n",
       "   Size Tokens  Size USD Side     Timestamp IST  Start Position Direction  \\\n",
       "0       986.87   7872.16  BUY  02-12-2024 22:50        0.000000       Buy   \n",
       "1        16.00    127.68  BUY  02-12-2024 22:50      986.524596       Buy   \n",
       "2       144.09   1150.63  BUY  02-12-2024 22:50     1002.518996       Buy   \n",
       "3       142.98   1142.04  BUY  02-12-2024 22:50     1146.558564       Buy   \n",
       "4         8.73     69.75  BUY  02-12-2024 22:50     1289.488521       Buy   \n",
       "\n",
       "   Closed PnL                                   Transaction Hash     Order ID  \\\n",
       "0         0.0  0xec09451986a1874e3a980418412fcd0201f500c95bac...  52017706630   \n",
       "1         0.0  0xec09451986a1874e3a980418412fcd0201f500c95bac...  52017706630   \n",
       "2         0.0  0xec09451986a1874e3a980418412fcd0201f500c95bac...  52017706630   \n",
       "3         0.0  0xec09451986a1874e3a980418412fcd0201f500c95bac...  52017706630   \n",
       "4         0.0  0xec09451986a1874e3a980418412fcd0201f500c95bac...  52017706630   \n",
       "\n",
       "   Crossed       Fee      Trade ID     Timestamp  \n",
       "0     True  0.345404  8.950000e+14  1.730000e+12  \n",
       "1     True  0.005600  4.430000e+14  1.730000e+12  \n",
       "2     True  0.050431  6.600000e+14  1.730000e+12  \n",
       "3     True  0.050043  1.080000e+15  1.730000e+12  \n",
       "4     True  0.003055  1.050000e+15  1.730000e+12  "
      ]
     },
     "metadata": {},
     "output_type": "display_data"
    }
   ],
   "source": [
    "#LOAD BOTH DATASETS\n",
    "\n",
    "sentiment_df=pd.read_csv(\"C:/Users/abign/Downloads/bitcoin_sentiment.csv\")\n",
    "trader_df = pd.read_csv(\"C:/Users/abign/Downloads/hyperliquid_trader_data.csv\")\n",
    "# Preview the data\n",
    "display(sentiment_df.head())\n",
    "display(trader_df.head())"
   ]
  },
  {
   "cell_type": "code",
   "execution_count": 5,
   "id": "4973ff4d-1aa6-4793-b919-93b34a71c741",
   "metadata": {},
   "outputs": [],
   "source": [
    "# Remove spaces from column names\n",
    "trader_df.columns = trader_df.columns.str.strip()\n",
    "sentiment_df.columns = sentiment_df.columns.str.strip()\n",
    "#These lines remove any leading or trailing spaces from column names in both trader_df and sentiment_df.\n",
    "#Sometimes when data is imported (especially from CSVs or Excel files), column names might accidentally have invisible spaces—like\n",
    "#\" Timestamp IST \" instead of \"Timestamp IST\". Those little quirks can cause errors later when you try to reference the column and wonder why it’s not being recognized.\n"
   ]
  },
  {
   "cell_type": "code",
   "execution_count": 7,
   "id": "d42df18c-9dea-4f5d-a722-7c011cfd7b74",
   "metadata": {},
   "outputs": [
    {
     "name": "stdout",
     "output_type": "stream",
     "text": [
      "Index(['timestamp', 'value', 'classification', 'date'], dtype='object')\n",
      "Index(['Account', 'Coin', 'Execution Price', 'Size Tokens', 'Size USD', 'Side',\n",
      "       'Timestamp IST', 'Start Position', 'Direction', 'Closed PnL',\n",
      "       'Transaction Hash', 'Order ID', 'Crossed', 'Fee', 'Trade ID',\n",
      "       'Timestamp'],\n",
      "      dtype='object')\n"
     ]
    }
   ],
   "source": [
    "#Make Sure the Column is Actually a Datetime\n",
    "#- I converted the date column in sentiment_df and the Timestamp IST column in trader_df to proper datetime objects using pd.to_datetime().\n",
    "#- By setting errors='coerce',  pandas turns any invalid date formats into NaT (Not a Time), which helps avoid exceptions from malformed entries.\n",
    "\n",
    "sentiment_df['date'] = pd.to_datetime(sentiment_df['date'], errors='coerce')\n",
    "trader_df['Timestamp IST']  = pd.to_datetime(trader_df['Timestamp IST'], errors='coerce')\n",
    "\n",
    "#CHECKING COLUMNS\n",
    "print(sentiment_df.columns)\n",
    "print(trader_df.columns)\n"
   ]
  },
  {
   "cell_type": "code",
   "execution_count": 11,
   "id": "22177200-24b4-49e6-a045-d0a458dec66f",
   "metadata": {},
   "outputs": [
    {
     "name": "stdout",
     "output_type": "stream",
     "text": [
      "Empty DataFrame\n",
      "Columns: [Account, Coin, Execution Price, Size Tokens, Size USD, Side, Timestamp IST, Start Position, Direction, Closed PnL, Transaction Hash, Order ID, Crossed, Fee, Trade ID, Timestamp, date, timestamp, value, classification]\n",
      "Index: []\n"
     ]
    }
   ],
   "source": [
    "#explicitly converting it to datetime before using .dt.date.\n",
    "# Convert Timestamp to datetime:\n",
    "\n",
    "sentiment_df['date'] = pd.to_datetime(sentiment_df['date'], dayfirst=True)\n",
    "trader_df['Timestamp'] = pd.to_datetime(trader_df['Timestamp'])\n",
    "\n",
    "# Extract just the date part\n",
    "sentiment_df['date'] = sentiment_df['date'].dt.date\n",
    "trader_df['date'] = trader_df['Timestamp'].dt.date\n",
    "\n",
    "# Merge on date\n",
    "merged_df = pd.merge(trader_df, sentiment_df, on='date', how='inner')\n",
    "\n",
    "# View merged result\n",
    "print(merged_df.head())\n",
    "\n",
    "trader_df['Timestamp'] = pd.to_datetime(trader_df['Timestamp'])"
   ]
  },
  {
   "cell_type": "code",
   "execution_count": 13,
   "id": "6a530fa5-2228-4c65-ba52-12592701de32",
   "metadata": {},
   "outputs": [
    {
     "ename": "AttributeError",
     "evalue": "Can only use .dt accessor with datetimelike values",
     "output_type": "error",
     "traceback": [
      "\u001b[1;31m---------------------------------------------------------------------------\u001b[0m",
      "\u001b[1;31mAttributeError\u001b[0m                            Traceback (most recent call last)",
      "Cell \u001b[1;32mIn[13], line 2\u001b[0m\n\u001b[0;32m      1\u001b[0m \u001b[38;5;66;03m#an attribute error occured so, you made sure the column is actually a datetime an then this is runned\u001b[39;00m\n\u001b[1;32m----> 2\u001b[0m sentiment_df[\u001b[38;5;124m'\u001b[39m\u001b[38;5;124mdate\u001b[39m\u001b[38;5;124m'\u001b[39m] \u001b[38;5;241m=\u001b[39m sentiment_df[\u001b[38;5;124m'\u001b[39m\u001b[38;5;124mdate\u001b[39m\u001b[38;5;124m'\u001b[39m]\u001b[38;5;241m.\u001b[39mdt\u001b[38;5;241m.\u001b[39mdate\n\u001b[0;32m      3\u001b[0m trader_df[\u001b[38;5;124m'\u001b[39m\u001b[38;5;124mdate\u001b[39m\u001b[38;5;124m'\u001b[39m] \u001b[38;5;241m=\u001b[39m trader_df[\u001b[38;5;124m'\u001b[39m\u001b[38;5;124mTimestamp\u001b[39m\u001b[38;5;124m'\u001b[39m]\u001b[38;5;241m.\u001b[39mdt\u001b[38;5;241m.\u001b[39mdate\n\u001b[0;32m      5\u001b[0m merged_df \u001b[38;5;241m=\u001b[39m pd\u001b[38;5;241m.\u001b[39mmerge(trader_df, sentiment_df, on\u001b[38;5;241m=\u001b[39m\u001b[38;5;124m'\u001b[39m\u001b[38;5;124mdate\u001b[39m\u001b[38;5;124m'\u001b[39m, how\u001b[38;5;241m=\u001b[39m\u001b[38;5;124m'\u001b[39m\u001b[38;5;124minner\u001b[39m\u001b[38;5;124m'\u001b[39m)\n",
      "File \u001b[1;32m~\\anaconda3\\Lib\\site-packages\\pandas\\core\\generic.py:6299\u001b[0m, in \u001b[0;36mNDFrame.__getattr__\u001b[1;34m(self, name)\u001b[0m\n\u001b[0;32m   6292\u001b[0m \u001b[38;5;28;01mif\u001b[39;00m (\n\u001b[0;32m   6293\u001b[0m     name \u001b[38;5;129;01mnot\u001b[39;00m \u001b[38;5;129;01min\u001b[39;00m \u001b[38;5;28mself\u001b[39m\u001b[38;5;241m.\u001b[39m_internal_names_set\n\u001b[0;32m   6294\u001b[0m     \u001b[38;5;129;01mand\u001b[39;00m name \u001b[38;5;129;01mnot\u001b[39;00m \u001b[38;5;129;01min\u001b[39;00m \u001b[38;5;28mself\u001b[39m\u001b[38;5;241m.\u001b[39m_metadata\n\u001b[0;32m   6295\u001b[0m     \u001b[38;5;129;01mand\u001b[39;00m name \u001b[38;5;129;01mnot\u001b[39;00m \u001b[38;5;129;01min\u001b[39;00m \u001b[38;5;28mself\u001b[39m\u001b[38;5;241m.\u001b[39m_accessors\n\u001b[0;32m   6296\u001b[0m     \u001b[38;5;129;01mand\u001b[39;00m \u001b[38;5;28mself\u001b[39m\u001b[38;5;241m.\u001b[39m_info_axis\u001b[38;5;241m.\u001b[39m_can_hold_identifiers_and_holds_name(name)\n\u001b[0;32m   6297\u001b[0m ):\n\u001b[0;32m   6298\u001b[0m     \u001b[38;5;28;01mreturn\u001b[39;00m \u001b[38;5;28mself\u001b[39m[name]\n\u001b[1;32m-> 6299\u001b[0m \u001b[38;5;28;01mreturn\u001b[39;00m \u001b[38;5;28mobject\u001b[39m\u001b[38;5;241m.\u001b[39m\u001b[38;5;21m__getattribute__\u001b[39m(\u001b[38;5;28mself\u001b[39m, name)\n",
      "File \u001b[1;32m~\\anaconda3\\Lib\\site-packages\\pandas\\core\\accessor.py:224\u001b[0m, in \u001b[0;36mCachedAccessor.__get__\u001b[1;34m(self, obj, cls)\u001b[0m\n\u001b[0;32m    221\u001b[0m \u001b[38;5;28;01mif\u001b[39;00m obj \u001b[38;5;129;01mis\u001b[39;00m \u001b[38;5;28;01mNone\u001b[39;00m:\n\u001b[0;32m    222\u001b[0m     \u001b[38;5;66;03m# we're accessing the attribute of the class, i.e., Dataset.geo\u001b[39;00m\n\u001b[0;32m    223\u001b[0m     \u001b[38;5;28;01mreturn\u001b[39;00m \u001b[38;5;28mself\u001b[39m\u001b[38;5;241m.\u001b[39m_accessor\n\u001b[1;32m--> 224\u001b[0m accessor_obj \u001b[38;5;241m=\u001b[39m \u001b[38;5;28mself\u001b[39m\u001b[38;5;241m.\u001b[39m_accessor(obj)\n\u001b[0;32m    225\u001b[0m \u001b[38;5;66;03m# Replace the property with the accessor object. Inspired by:\u001b[39;00m\n\u001b[0;32m    226\u001b[0m \u001b[38;5;66;03m# https://www.pydanny.com/cached-property.html\u001b[39;00m\n\u001b[0;32m    227\u001b[0m \u001b[38;5;66;03m# We need to use object.__setattr__ because we overwrite __setattr__ on\u001b[39;00m\n\u001b[0;32m    228\u001b[0m \u001b[38;5;66;03m# NDFrame\u001b[39;00m\n\u001b[0;32m    229\u001b[0m \u001b[38;5;28mobject\u001b[39m\u001b[38;5;241m.\u001b[39m\u001b[38;5;21m__setattr__\u001b[39m(obj, \u001b[38;5;28mself\u001b[39m\u001b[38;5;241m.\u001b[39m_name, accessor_obj)\n",
      "File \u001b[1;32m~\\anaconda3\\Lib\\site-packages\\pandas\\core\\indexes\\accessors.py:643\u001b[0m, in \u001b[0;36mCombinedDatetimelikeProperties.__new__\u001b[1;34m(cls, data)\u001b[0m\n\u001b[0;32m    640\u001b[0m \u001b[38;5;28;01melif\u001b[39;00m \u001b[38;5;28misinstance\u001b[39m(data\u001b[38;5;241m.\u001b[39mdtype, PeriodDtype):\n\u001b[0;32m    641\u001b[0m     \u001b[38;5;28;01mreturn\u001b[39;00m PeriodProperties(data, orig)\n\u001b[1;32m--> 643\u001b[0m \u001b[38;5;28;01mraise\u001b[39;00m \u001b[38;5;167;01mAttributeError\u001b[39;00m(\u001b[38;5;124m\"\u001b[39m\u001b[38;5;124mCan only use .dt accessor with datetimelike values\u001b[39m\u001b[38;5;124m\"\u001b[39m)\n",
      "\u001b[1;31mAttributeError\u001b[0m: Can only use .dt accessor with datetimelike values"
     ]
    }
   ],
   "source": [
    "#an attribute error occured so, you made sure the column is actually a datetime an then this is runned\n",
    "sentiment_df['date'] = sentiment_df['date'].dt.date\n",
    "trader_df['date'] = trader_df['Timestamp'].dt.date\n",
    "\n",
    "merged_df = pd.merge(trader_df, sentiment_df, on='date', how='inner')\n",
    "\n",
    "# Show the result\n",
    "merged_df.head()"
   ]
  },
  {
   "cell_type": "code",
   "execution_count": 15,
   "id": "a543e611-0bc9-4679-bd8c-1af7d074cc4b",
   "metadata": {},
   "outputs": [
    {
     "name": "stdout",
     "output_type": "stream",
     "text": [
      "Trader dates:\n",
      " [datetime.date(1970, 1, 1)]\n",
      "Sentiment dates:\n",
      " [datetime.date(2018, 1, 2) datetime.date(2018, 2, 2)\n",
      " datetime.date(2018, 3, 2) ... datetime.date(2025, 12, 4)\n",
      " datetime.date(2025, 1, 5) datetime.date(2025, 2, 5)]\n"
     ]
    }
   ],
   "source": [
    "print(\"Trader dates:\\n\", trader_df['date'].unique())\n",
    "print(\"Sentiment dates:\\n\", sentiment_df['date'].unique())\n"
   ]
  },
  {
   "cell_type": "code",
   "execution_count": 17,
   "id": "27ada9b4-31f6-4380-ba22-7b7e8f5a2f76",
   "metadata": {
    "scrolled": true
   },
   "outputs": [
    {
     "name": "stdout",
     "output_type": "stream",
     "text": [
      "0   1970-01-01 00:28:50\n",
      "1   1970-01-01 00:28:50\n",
      "2   1970-01-01 00:28:50\n",
      "3   1970-01-01 00:28:50\n",
      "4   1970-01-01 00:28:50\n",
      "5   1970-01-01 00:28:50\n",
      "6   1970-01-01 00:28:50\n",
      "7   1970-01-01 00:28:50\n",
      "8   1970-01-01 00:28:50\n",
      "9   1970-01-01 00:28:50\n",
      "Name: Timestamp, dtype: datetime64[ns]\n",
      "datetime64[ns]\n"
     ]
    }
   ],
   "source": [
    "#Checking original data type and sample values:\n",
    "print(trader_df['Timestamp'].head(10))\n",
    "print(trader_df['Timestamp'].dtype)\n",
    " "
   ]
  },
  {
   "cell_type": "code",
   "execution_count": 57,
   "id": "f2ddd9a8-80f6-4adf-b834-276d64aa511e",
   "metadata": {},
   "outputs": [
    {
     "name": "stdout",
     "output_type": "stream",
     "text": [
      "Corrected trader dates:\n",
      " [datetime.date(2024, 2, 12) datetime.date(2024, 3, 12)\n",
      " datetime.date(2024, 4, 12) datetime.date(2025, 4, 3)\n",
      " datetime.date(2025, 5, 3) datetime.date(2025, 11, 3) NaT\n",
      " datetime.date(2025, 8, 4) datetime.date(2025, 9, 4)\n",
      " datetime.date(2025, 10, 4)]\n"
     ]
    }
   ],
   "source": [
    "# datetime values arent up to date so changing it\n",
    "# Replace 'Timestamp' with 'Timestamp IST' for real dates\n",
    "trader_df['date'] = pd.to_datetime(trader_df['Timestamp IST']).dt.date\n",
    "#CONFIRMING WHETHER IT WORKED\n",
    "print(\"Corrected trader dates:\\n\", trader_df['date'].unique()[:10])\n",
    "# Convert both to datetime.date \n",
    "sentiment_df['date'] = pd.to_datetime(sentiment_df['date']).dt.date\n",
    "trader_df['date'] = pd.to_datetime(trader_df['date'], errors='coerce').dt.date\n"
   ]
  },
  {
   "cell_type": "code",
   "execution_count": 59,
   "id": "ed9dfbce-8f86-45ca-9c00-a430146cc39e",
   "metadata": {},
   "outputs": [
    {
     "name": "stdout",
     "output_type": "stream",
     "text": [
      "0\n",
      "1970-01-01 00:28:00\n",
      "1970-01-01 00:29:10\n"
     ]
    }
   ],
   "source": [
    "#Check how many dates are valid:\n",
    "\n",
    "print(trader_df['Timestamp'].isna().sum())  # how many missing?\n",
    "print(trader_df['Timestamp'].min())         # earliest valid date\n",
    "print(trader_df['Timestamp'].max())         # latest valid date"
   ]
  },
  {
   "cell_type": "code",
   "execution_count": 61,
   "id": "34471bce-a72f-4958-970e-3d73e9356690",
   "metadata": {},
   "outputs": [],
   "source": [
    "#Drop rows with missing or invalid timestamps:\n",
    "\n",
    "trader_df = trader_df.dropna(subset=['Timestamp'])\n"
   ]
  },
  {
   "cell_type": "code",
   "execution_count": 63,
   "id": "167a4095-cb67-4598-b053-b508bd29143d",
   "metadata": {},
   "outputs": [
    {
     "name": "stdout",
     "output_type": "stream",
     "text": [
      "Unique trader dates: 188\n",
      "Total trader rows: 211224\n",
      "Unique sentiment dates: 1046\n",
      "Total sentiment rows: 2644\n"
     ]
    }
   ],
   "source": [
    "print(\"Unique trader dates:\", trader_df['date'].nunique())\n",
    "print(\"Total trader rows:\", len(trader_df))\n",
    "print(\"Unique sentiment dates:\", sentiment_df['date'].nunique())\n",
    "print(\"Total sentiment rows:\", len(sentiment_df))"
   ]
  },
  {
   "cell_type": "code",
   "execution_count": 65,
   "id": "40b8bb3f-ff89-4730-a141-f92ad6b1b45b",
   "metadata": {},
   "outputs": [
    {
     "name": "stdout",
     "output_type": "stream",
     "text": [
      "Merged shape: (189, 20)\n"
     ]
    }
   ],
   "source": [
    "# MEMORY ERROR HAS OCCURED, SO COMPREESING THE DATA WITH 3 MONTHS OF THE DATASET\n",
    "# droping duplicates by date in either dataset\n",
    "trader_df_dedup = trader_df.drop_duplicates(subset='date')\n",
    "sentiment_df_dedup = sentiment_df.drop_duplicates(subset='date')\n",
    "\n",
    "#merging the smaller frames\n",
    "merged_df = pd.merge(trader_df_dedup, sentiment_df_dedup, on='date', how='inner')\n",
    "print(\"Merged shape:\", merged_df.shape)"
   ]
  },
  {
   "cell_type": "code",
   "execution_count": 67,
   "id": "c28d8f30-fe98-4ff4-8c49-2fd063b8d65e",
   "metadata": {},
   "outputs": [
    {
     "name": "stdout",
     "output_type": "stream",
     "text": [
      "Trader Data: (211224, 17)\n",
      "Sentiment Data: (2644, 4)\n"
     ]
    }
   ],
   "source": [
    "#checking data frame size\n",
    "\n",
    "print(\"Trader Data:\", trader_df.shape)\n",
    "print(\"Sentiment Data:\", sentiment_df.shape)\n"
   ]
  },
  {
   "cell_type": "code",
   "execution_count": 69,
   "id": "6b289752-39d4-454a-a21a-9c0abb64c96d",
   "metadata": {},
   "outputs": [
    {
     "name": "stdout",
     "output_type": "stream",
     "text": [
      "Filtered trader data: (16231, 17)\n",
      "Filtered sentiment data: (12, 4)\n"
     ]
    }
   ],
   "source": [
    "# Convert date to datetime if not already\n",
    "trader_df['date'] = pd.to_datetime(trader_df['date'])\n",
    "sentiment_df['date'] = pd.to_datetime(sentiment_df['date'])\n",
    "\n",
    "# Set a range — adjust if needed\n",
    "start_date = \"2025-03-01\"\n",
    "end_date = \"2025-06-01\"\n",
    "\n",
    "# Filter\n",
    "trader_small = trader_df[(trader_df['date'] >= start_date) & (trader_df['date'] < end_date)]\n",
    "sentiment_small = sentiment_df[(sentiment_df['date'] >= start_date) & (sentiment_df['date'] < end_date)]\n",
    "\n",
    "print(\"Filtered trader data:\", trader_small.shape)\n",
    "print(\"Filtered sentiment data:\", sentiment_small.shape)\n"
   ]
  },
  {
   "cell_type": "code",
   "execution_count": 71,
   "id": "bec33212-4b7d-45e6-995b-6dc00e3b29d7",
   "metadata": {},
   "outputs": [
    {
     "name": "stdout",
     "output_type": "stream",
     "text": [
      "Merged shape: (16231, 20)\n"
     ]
    },
    {
     "data": {
      "text/html": [
       "<div>\n",
       "<style scoped>\n",
       "    .dataframe tbody tr th:only-of-type {\n",
       "        vertical-align: middle;\n",
       "    }\n",
       "\n",
       "    .dataframe tbody tr th {\n",
       "        vertical-align: top;\n",
       "    }\n",
       "\n",
       "    .dataframe thead th {\n",
       "        text-align: right;\n",
       "    }\n",
       "</style>\n",
       "<table border=\"1\" class=\"dataframe\">\n",
       "  <thead>\n",
       "    <tr style=\"text-align: right;\">\n",
       "      <th></th>\n",
       "      <th>Account</th>\n",
       "      <th>Coin</th>\n",
       "      <th>Execution Price</th>\n",
       "      <th>Size Tokens</th>\n",
       "      <th>Size USD</th>\n",
       "      <th>Side</th>\n",
       "      <th>Timestamp IST</th>\n",
       "      <th>Start Position</th>\n",
       "      <th>Direction</th>\n",
       "      <th>Closed PnL</th>\n",
       "      <th>Transaction Hash</th>\n",
       "      <th>Order ID</th>\n",
       "      <th>Crossed</th>\n",
       "      <th>Fee</th>\n",
       "      <th>Trade ID</th>\n",
       "      <th>Timestamp</th>\n",
       "      <th>date</th>\n",
       "      <th>timestamp</th>\n",
       "      <th>value</th>\n",
       "      <th>classification</th>\n",
       "    </tr>\n",
       "  </thead>\n",
       "  <tbody>\n",
       "    <tr>\n",
       "      <th>0</th>\n",
       "      <td>0xae5eacaf9c6b9111fd53034a602c192a04e082ed</td>\n",
       "      <td>DYDX</td>\n",
       "      <td>0.60975</td>\n",
       "      <td>2834.9</td>\n",
       "      <td>1728.58</td>\n",
       "      <td>BUY</td>\n",
       "      <td>2025-04-03 23:23:00</td>\n",
       "      <td>0.0</td>\n",
       "      <td>Open Long</td>\n",
       "      <td>0.0</td>\n",
       "      <td>0x6062349d392719a20336041ee797e502012c0064a4a2...</td>\n",
       "      <td>77138632929</td>\n",
       "      <td>True</td>\n",
       "      <td>0.580802</td>\n",
       "      <td>9.810000e+14</td>\n",
       "      <td>1970-01-01 00:29:00</td>\n",
       "      <td>2025-04-03</td>\n",
       "      <td>1741066200</td>\n",
       "      <td>15</td>\n",
       "      <td>Extreme Fear</td>\n",
       "    </tr>\n",
       "    <tr>\n",
       "      <th>1</th>\n",
       "      <td>0xae5eacaf9c6b9111fd53034a602c192a04e082ed</td>\n",
       "      <td>DYDX</td>\n",
       "      <td>0.60975</td>\n",
       "      <td>190.9</td>\n",
       "      <td>116.40</td>\n",
       "      <td>BUY</td>\n",
       "      <td>2025-04-03 23:23:00</td>\n",
       "      <td>2834.9</td>\n",
       "      <td>Open Long</td>\n",
       "      <td>0.0</td>\n",
       "      <td>0x6062349d392719a20336041ee797e502012c0064a4a2...</td>\n",
       "      <td>77138632929</td>\n",
       "      <td>True</td>\n",
       "      <td>0.039110</td>\n",
       "      <td>8.320000e+14</td>\n",
       "      <td>1970-01-01 00:29:00</td>\n",
       "      <td>2025-04-03</td>\n",
       "      <td>1741066200</td>\n",
       "      <td>15</td>\n",
       "      <td>Extreme Fear</td>\n",
       "    </tr>\n",
       "    <tr>\n",
       "      <th>2</th>\n",
       "      <td>0xae5eacaf9c6b9111fd53034a602c192a04e082ed</td>\n",
       "      <td>DYDX</td>\n",
       "      <td>0.60976</td>\n",
       "      <td>2818.6</td>\n",
       "      <td>1718.67</td>\n",
       "      <td>BUY</td>\n",
       "      <td>2025-04-03 23:23:00</td>\n",
       "      <td>3025.8</td>\n",
       "      <td>Open Long</td>\n",
       "      <td>0.0</td>\n",
       "      <td>0x6062349d392719a20336041ee797e502012c0064a4a2...</td>\n",
       "      <td>77138632929</td>\n",
       "      <td>True</td>\n",
       "      <td>0.577472</td>\n",
       "      <td>7.030000e+14</td>\n",
       "      <td>1970-01-01 00:29:00</td>\n",
       "      <td>2025-04-03</td>\n",
       "      <td>1741066200</td>\n",
       "      <td>15</td>\n",
       "      <td>Extreme Fear</td>\n",
       "    </tr>\n",
       "    <tr>\n",
       "      <th>3</th>\n",
       "      <td>0xae5eacaf9c6b9111fd53034a602c192a04e082ed</td>\n",
       "      <td>DYDX</td>\n",
       "      <td>0.60981</td>\n",
       "      <td>3689.6</td>\n",
       "      <td>2249.95</td>\n",
       "      <td>BUY</td>\n",
       "      <td>2025-04-03 23:23:00</td>\n",
       "      <td>5844.4</td>\n",
       "      <td>Open Long</td>\n",
       "      <td>0.0</td>\n",
       "      <td>0x6062349d392719a20336041ee797e502012c0064a4a2...</td>\n",
       "      <td>77138632929</td>\n",
       "      <td>True</td>\n",
       "      <td>0.755984</td>\n",
       "      <td>8.730000e+14</td>\n",
       "      <td>1970-01-01 00:29:00</td>\n",
       "      <td>2025-04-03</td>\n",
       "      <td>1741066200</td>\n",
       "      <td>15</td>\n",
       "      <td>Extreme Fear</td>\n",
       "    </tr>\n",
       "    <tr>\n",
       "      <th>4</th>\n",
       "      <td>0xae5eacaf9c6b9111fd53034a602c192a04e082ed</td>\n",
       "      <td>DYDX</td>\n",
       "      <td>0.61007</td>\n",
       "      <td>3688.1</td>\n",
       "      <td>2250.00</td>\n",
       "      <td>BUY</td>\n",
       "      <td>2025-04-03 23:23:00</td>\n",
       "      <td>9534.0</td>\n",
       "      <td>Open Long</td>\n",
       "      <td>0.0</td>\n",
       "      <td>0x6062349d392719a20336041ee797e502012c0064a4a2...</td>\n",
       "      <td>77138632929</td>\n",
       "      <td>True</td>\n",
       "      <td>0.755999</td>\n",
       "      <td>9.680000e+14</td>\n",
       "      <td>1970-01-01 00:29:00</td>\n",
       "      <td>2025-04-03</td>\n",
       "      <td>1741066200</td>\n",
       "      <td>15</td>\n",
       "      <td>Extreme Fear</td>\n",
       "    </tr>\n",
       "  </tbody>\n",
       "</table>\n",
       "</div>"
      ],
      "text/plain": [
       "                                      Account  Coin  Execution Price  \\\n",
       "0  0xae5eacaf9c6b9111fd53034a602c192a04e082ed  DYDX          0.60975   \n",
       "1  0xae5eacaf9c6b9111fd53034a602c192a04e082ed  DYDX          0.60975   \n",
       "2  0xae5eacaf9c6b9111fd53034a602c192a04e082ed  DYDX          0.60976   \n",
       "3  0xae5eacaf9c6b9111fd53034a602c192a04e082ed  DYDX          0.60981   \n",
       "4  0xae5eacaf9c6b9111fd53034a602c192a04e082ed  DYDX          0.61007   \n",
       "\n",
       "   Size Tokens  Size USD Side       Timestamp IST  Start Position  Direction  \\\n",
       "0       2834.9   1728.58  BUY 2025-04-03 23:23:00             0.0  Open Long   \n",
       "1        190.9    116.40  BUY 2025-04-03 23:23:00          2834.9  Open Long   \n",
       "2       2818.6   1718.67  BUY 2025-04-03 23:23:00          3025.8  Open Long   \n",
       "3       3689.6   2249.95  BUY 2025-04-03 23:23:00          5844.4  Open Long   \n",
       "4       3688.1   2250.00  BUY 2025-04-03 23:23:00          9534.0  Open Long   \n",
       "\n",
       "   Closed PnL                                   Transaction Hash     Order ID  \\\n",
       "0         0.0  0x6062349d392719a20336041ee797e502012c0064a4a2...  77138632929   \n",
       "1         0.0  0x6062349d392719a20336041ee797e502012c0064a4a2...  77138632929   \n",
       "2         0.0  0x6062349d392719a20336041ee797e502012c0064a4a2...  77138632929   \n",
       "3         0.0  0x6062349d392719a20336041ee797e502012c0064a4a2...  77138632929   \n",
       "4         0.0  0x6062349d392719a20336041ee797e502012c0064a4a2...  77138632929   \n",
       "\n",
       "   Crossed       Fee      Trade ID           Timestamp       date   timestamp  \\\n",
       "0     True  0.580802  9.810000e+14 1970-01-01 00:29:00 2025-04-03  1741066200   \n",
       "1     True  0.039110  8.320000e+14 1970-01-01 00:29:00 2025-04-03  1741066200   \n",
       "2     True  0.577472  7.030000e+14 1970-01-01 00:29:00 2025-04-03  1741066200   \n",
       "3     True  0.755984  8.730000e+14 1970-01-01 00:29:00 2025-04-03  1741066200   \n",
       "4     True  0.755999  9.680000e+14 1970-01-01 00:29:00 2025-04-03  1741066200   \n",
       "\n",
       "   value classification  \n",
       "0     15   Extreme Fear  \n",
       "1     15   Extreme Fear  \n",
       "2     15   Extreme Fear  \n",
       "3     15   Extreme Fear  \n",
       "4     15   Extreme Fear  "
      ]
     },
     "execution_count": 71,
     "metadata": {},
     "output_type": "execute_result"
    }
   ],
   "source": [
    "#REDUCED  DATA being  MERGING THEM NOW\n",
    "merged_df = pd.merge(trader_small, sentiment_small, on='date', how='inner')\n",
    "print(\"Merged shape:\", merged_df.shape)\n",
    "merged_df.head()\n"
   ]
  },
  {
   "cell_type": "code",
   "execution_count": 35,
   "id": "e0875c78-548f-4c43-a376-dd235ff1260c",
   "metadata": {},
   "outputs": [],
   "source": [
    "#TASK- MERGE BOTH DATA AFTER FILTERING\n",
    "merged_small = pd.merge(trader_small, sentiment_small, on='date', how='inner')\n",
    "\n"
   ]
  },
  {
   "cell_type": "code",
   "execution_count": 37,
   "id": "d77f0856-acac-4043-8042-1ffe35d61e46",
   "metadata": {},
   "outputs": [
    {
     "data": {
      "text/plain": [
       "classification\n",
       "Extreme Fear    111.128492\n",
       "Fear            134.397964\n",
       "Greed           118.084472\n",
       "Neutral          43.721076\n",
       "Name: Closed PnL, dtype: float64"
      ]
     },
     "execution_count": 37,
     "metadata": {},
     "output_type": "execute_result"
    }
   ],
   "source": [
    "#Average PnL vs Sentiment Classification\n",
    "merged_small.groupby('classification')['Closed PnL'].mean()\n"
   ]
  },
  {
   "cell_type": "code",
   "execution_count": 39,
   "id": "cd9f7ec1-d389-40f2-adca-1ad52c250f3e",
   "metadata": {},
   "outputs": [
    {
     "data": {
      "text/html": [
       "<div>\n",
       "<style scoped>\n",
       "    .dataframe tbody tr th:only-of-type {\n",
       "        vertical-align: middle;\n",
       "    }\n",
       "\n",
       "    .dataframe tbody tr th {\n",
       "        vertical-align: top;\n",
       "    }\n",
       "\n",
       "    .dataframe thead th {\n",
       "        text-align: right;\n",
       "    }\n",
       "</style>\n",
       "<table border=\"1\" class=\"dataframe\">\n",
       "  <thead>\n",
       "    <tr style=\"text-align: right;\">\n",
       "      <th></th>\n",
       "      <th>value</th>\n",
       "      <th>Closed PnL</th>\n",
       "    </tr>\n",
       "  </thead>\n",
       "  <tbody>\n",
       "    <tr>\n",
       "      <th>value</th>\n",
       "      <td>1.000000</td>\n",
       "      <td>0.004656</td>\n",
       "    </tr>\n",
       "    <tr>\n",
       "      <th>Closed PnL</th>\n",
       "      <td>0.004656</td>\n",
       "      <td>1.000000</td>\n",
       "    </tr>\n",
       "  </tbody>\n",
       "</table>\n",
       "</div>"
      ],
      "text/plain": [
       "               value  Closed PnL\n",
       "value       1.000000    0.004656\n",
       "Closed PnL  0.004656    1.000000"
      ]
     },
     "execution_count": 39,
     "metadata": {},
     "output_type": "execute_result"
    }
   ],
   "source": [
    "#. Buy/Sell Ratio per Sentiment Class\n",
    "merged_small[['value', 'Closed PnL']].corr()\n"
   ]
  },
  {
   "cell_type": "code",
   "execution_count": 41,
   "id": "08fcc110-ddba-41b1-a770-ebdaa369cbe2",
   "metadata": {},
   "outputs": [
    {
     "data": {
      "text/plain": [
       "<Axes: title={'center': 'Sentiment Distribution per Day'}, xlabel='date'>"
      ]
     },
     "execution_count": 41,
     "metadata": {},
     "output_type": "execute_result"
    },
    {
     "data": {
      "image/png": "[encoded data removed]",
      "text/plain": [
       "<Figure size 1200x600 with 1 Axes>"
      ]
     },
     "metadata": {},
     "output_type": "display_data"
    }
   ],
   "source": [
    "#📅 Daily Sentiment Trend\n",
    "daily_sentiment = merged_df.groupby(['date', 'classification']).size().unstack(fill_value=0)\n",
    "daily_sentiment.plot(kind='bar', stacked=True, figsize=(12,6), title=\"Sentiment Distribution per Day\")\n"
   ]
  },
  {
   "cell_type": "code",
   "execution_count": 43,
   "id": "1327aa6e-acf4-499e-b0b5-8fb5e81eedfb",
   "metadata": {},
   "outputs": [
    {
     "data": {
      "text/plain": [
       "<Axes: title={'center': 'Total PnL Over Time'}, xlabel='date'>"
      ]
     },
     "execution_count": 43,
     "metadata": {},
     "output_type": "execute_result"
    },
    {
     "data": {
      "image/png": "[encoded data removed]",
      "text/plain": [
       "<Figure size 640x480 with 1 Axes>"
      ]
     },
     "metadata": {},
     "output_type": "display_data"
    }
   ],
   "source": [
    "#💰 Total PnL Over Time\n",
    "merged_df.groupby('date')['Closed PnL'].sum().plot(title=\"Total PnL Over Time\", marker='o')"
   ]
  },
  {
   "cell_type": "code",
   "execution_count": 45,
   "id": "c3dc7571-49d1-4c31-9f7e-4218e6963f65",
   "metadata": {},
   "outputs": [],
   "source": [
    "#SAVING TO csv file\n",
    "merged_df.to_csv(\"merged_bitcoin_sentiment.csv\", index=False)"
   ]
  },
  {
   "cell_type": "code",
   "execution_count": null,
   "id": "00169857-dda9-483d-9f42-31e7087c579b",
   "metadata": {},
   "outputs": [],
   "source": []
  }
 ],
 "metadata": {
  "kernelspec": {
   "display_name": "Python 3 (ipykernel)",
   "language": "python",
   "name": "python3"
  },
  "language_info": {
   "codemirror_mode": {
    "name": "ipython",
    "version": 3
   },
   "file_extension": ".py",
   "mimetype": "text/x-python",
   "name": "python",
   "nbconvert_exporter": "python",
   "pygments_lexer": "ipython3",
   "version": "3.12.7"
  }
 },
 "nbformat": 4,
 "nbformat_minor": 5
}
